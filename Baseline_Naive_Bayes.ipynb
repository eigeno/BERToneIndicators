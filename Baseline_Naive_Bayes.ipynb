{
  "cells": [
    {
      "cell_type": "code",
      "execution_count": null,
      "metadata": {
        "colab": {
          "background_save": true
        },
        "id": "HTS1-b0tlCpP",
        "outputId": "ba89a696-ceaf-40bc-d9de-bc91ada9fd1c"
      },
      "outputs": [
        {
          "name": "stdout",
          "output_type": "stream",
          "text": [
            "Requirement already satisfied: transformers in /usr/local/lib/python3.7/dist-packages (4.18.0)\n",
            "Requirement already satisfied: tqdm>=4.27 in /usr/local/lib/python3.7/dist-packages (from transformers) (4.64.0)\n",
            "Requirement already satisfied: packaging>=20.0 in /usr/local/lib/python3.7/dist-packages (from transformers) (21.3)\n",
            "Requirement already satisfied: pyyaml>=5.1 in /usr/local/lib/python3.7/dist-packages (from transformers) (6.0)\n",
            "Requirement already satisfied: numpy>=1.17 in /usr/local/lib/python3.7/dist-packages (from transformers) (1.21.6)\n",
            "Requirement already satisfied: requests in /usr/local/lib/python3.7/dist-packages (from transformers) (2.23.0)\n",
            "Requirement already satisfied: importlib-metadata in /usr/local/lib/python3.7/dist-packages (from transformers) (4.11.3)\n",
            "Requirement already satisfied: sacremoses in /usr/local/lib/python3.7/dist-packages (from transformers) (0.0.53)\n",
            "Requirement already satisfied: tokenizers!=0.11.3,<0.13,>=0.11.1 in /usr/local/lib/python3.7/dist-packages (from transformers) (0.12.1)\n",
            "Requirement already satisfied: huggingface-hub<1.0,>=0.1.0 in /usr/local/lib/python3.7/dist-packages (from transformers) (0.5.1)\n",
            "Requirement already satisfied: regex!=2019.12.17 in /usr/local/lib/python3.7/dist-packages (from transformers) (2019.12.20)\n",
            "Requirement already satisfied: filelock in /usr/local/lib/python3.7/dist-packages (from transformers) (3.6.0)\n",
            "Requirement already satisfied: typing-extensions>=3.7.4.3 in /usr/local/lib/python3.7/dist-packages (from huggingface-hub<1.0,>=0.1.0->transformers) (4.2.0)\n",
            "Requirement already satisfied: pyparsing!=3.0.5,>=2.0.2 in /usr/local/lib/python3.7/dist-packages (from packaging>=20.0->transformers) (3.0.8)\n",
            "Requirement already satisfied: zipp>=0.5 in /usr/local/lib/python3.7/dist-packages (from importlib-metadata->transformers) (3.8.0)\n",
            "Requirement already satisfied: urllib3!=1.25.0,!=1.25.1,<1.26,>=1.21.1 in /usr/local/lib/python3.7/dist-packages (from requests->transformers) (1.24.3)\n",
            "Requirement already satisfied: idna<3,>=2.5 in /usr/local/lib/python3.7/dist-packages (from requests->transformers) (2.10)\n",
            "Requirement already satisfied: certifi>=2017.4.17 in /usr/local/lib/python3.7/dist-packages (from requests->transformers) (2021.10.8)\n",
            "Requirement already satisfied: chardet<4,>=3.0.2 in /usr/local/lib/python3.7/dist-packages (from requests->transformers) (3.0.4)\n",
            "Requirement already satisfied: joblib in /usr/local/lib/python3.7/dist-packages (from sacremoses->transformers) (1.1.0)\n",
            "Requirement already satisfied: six in /usr/local/lib/python3.7/dist-packages (from sacremoses->transformers) (1.15.0)\n",
            "Requirement already satisfied: click in /usr/local/lib/python3.7/dist-packages (from sacremoses->transformers) (7.1.2)\n",
            "Requirement already satisfied: emoji in /usr/local/lib/python3.7/dist-packages (1.7.0)\n",
            "Requirement already satisfied: langdetect in /usr/local/lib/python3.7/dist-packages (1.0.9)\n",
            "Requirement already satisfied: six in /usr/local/lib/python3.7/dist-packages (from langdetect) (1.15.0)\n"
          ]
        }
      ],
      "source": [
        "!pip install transformers\n",
        "!pip install emoji\n",
        "!pip install langdetect"
      ]
    },
    {
      "cell_type": "code",
      "execution_count": null,
      "metadata": {
        "colab": {
          "background_save": true
        },
        "id": "ftdyh6XlfbTG",
        "outputId": "d9d51371-38a7-4744-acea-8422b5e0e852"
      },
      "outputs": [
        {
          "name": "stdout",
          "output_type": "stream",
          "text": [
            "numpy 1.21.6\n",
            "pandas 1.3.5\n"
          ]
        }
      ],
      "source": [
        "import os\n",
        "\n",
        "import numpy as np\n",
        "print('numpy', np.__version__)\n",
        "import pandas as pd\n",
        "print('pandas', pd.__version__)\n",
        "from langdetect import detect\n",
        "import random\n",
        "import re\n",
        "\n",
        "import seaborn as sns\n",
        "import matplotlib.pyplot as plt\n",
        "\n",
        "import torch\n",
        "import torch.nn as nn\n",
        "import torch.nn.functional as F\n",
        "#from torchtext.data import Field, TabularDataset, BucketIterator, Iterator\n",
        "\n",
        "from transformers import AutoTokenizer, BertTokenizer, BertForSequenceClassification\n",
        "\n",
        "from tqdm import tqdm #progress bar\n",
        "\n",
        "# Evaluation\n",
        "\n",
        "from sklearn.metrics import accuracy_score, classification_report, confusion_matrix"
      ]
    },
    {
      "cell_type": "markdown",
      "metadata": {
        "id": "w4Kflh_ShXNv"
      },
      "source": [
        "# https://www.analyticsvidhya.com/blog/2021/07/performing-sentiment-analysis-with-naive-bayes-classifier/"
      ]
    },
    {
      "cell_type": "code",
      "execution_count": null,
      "metadata": {
        "id": "B8XLI-MOhaxH"
      },
      "outputs": [],
      "source": [
        "from sklearn.model_selection import train_test_split\n",
        "import joblib\n",
        "from sklearn.feature_extraction.text import CountVectorizer"
      ]
    },
    {
      "cell_type": "code",
      "execution_count": null,
      "metadata": {
        "id": "Sg-y6qdkSSs_"
      },
      "outputs": [],
      "source": [
        "from google.colab import drive\n",
        "drive.mount('/content/drive')"
      ]
    },
    {
      "cell_type": "code",
      "execution_count": null,
      "metadata": {
        "colab": {
          "base_uri": "https://localhost:8080/"
        },
        "id": "o3fDB3u8onRM",
        "outputId": "28c96e75-95de-480a-a2a5-cf3dbb88dd52"
      },
      "outputs": [
        {
          "name": "stdout",
          "output_type": "stream",
          "text": [
            "/content/drive/My Drive/Twitter\n"
          ]
        }
      ],
      "source": [
        "cd /content/drive/My Drive/Twitter"
      ]
    },
    {
      "cell_type": "code",
      "execution_count": null,
      "metadata": {
        "id": "zTeuJ9BHhg-s"
      },
      "outputs": [],
      "source": [
        "data = pd.read_csv('all_tweets_english.tsv', delimiter='\\t', index_col=0, on_bad_lines='skip')"
      ]
    },
    {
      "cell_type": "code",
      "execution_count": null,
      "metadata": {
        "id": "04TxWpVhn1GE"
      },
      "outputs": [],
      "source": [
        "data['label'] = 0\n",
        "data.loc[data['pos'] == 1,'label'] = 1\n",
        "data.loc[data['neg'] == 1,'label'] = -1"
      ]
    },
    {
      "cell_type": "code",
      "execution_count": null,
      "metadata": {
        "id": "furbuvrNhno7"
      },
      "outputs": [],
      "source": [
        "def preprocess_data(data):\n",
        "    # Convert text to lowercase\n",
        "    data['text'] = data['text'].str.replace('/srs',' ')\n",
        "    data['text'] = data['text'].str.replace('/nbh',' ')\n",
        "    data['text'] = data['text'].str.replace('/pos',' ')\n",
        "    data['text'] = data['text'].str.replace('/hyp',' ')\n",
        "    data['text'] = data['text'].str.replace('/neg',' ')\n",
        "    return data\n",
        " \n",
        "data = data.astype(str).apply(lambda x: x.str.encode('ascii', 'ignore').str.decode('ascii'))\n",
        "data['text'].str.lower()\n",
        " \n",
        "preprocess_data(data)\n",
        "srs_df = data.loc[data['srs'] == '1']\n",
        "nbh_df = data.loc[data['nbh'] == '1']\n",
        "hyp_df = data.loc[data['hyp'] == '1']\n",
        "pos_df = data.loc[data['pos'] == '1']\n",
        "neg_df = data.loc[data['neg'] == '1']"
      ]
    },
    {
      "cell_type": "code",
      "execution_count": null,
      "metadata": {
        "id": "iTYbJCAwmWfE"
      },
      "outputs": [],
      "source": [
        "import nltk\n",
        "from nltk.corpus import stopwords\n",
        "from nltk.stem.porter import PorterStemmer\n",
        "from sklearn.feature_extraction.text import CountVectorizer"
      ]
    },
    {
      "cell_type": "code",
      "execution_count": null,
      "metadata": {
        "id": "QWYAB2AmjAPz"
      },
      "outputs": [],
      "source": [
        "x = data['text']\n",
        "y = data['label']\n",
        "x, x_test, y, y_test = train_test_split(x,y, stratify=y, test_size=0.25, random_state=42)"
      ]
    },
    {
      "cell_type": "code",
      "execution_count": null,
      "metadata": {
        "id": "CUa_Gr_qnQCO"
      },
      "outputs": [],
      "source": [
        "vec = CountVectorizer(stop_words='english', max_features = 12000)\n",
        "x = vec.fit_transform(x).toarray()\n",
        "x_test = vec.transform(x_test).toarray()"
      ]
    },
    {
      "cell_type": "code",
      "execution_count": null,
      "metadata": {
        "colab": {
          "base_uri": "https://localhost:8080/"
        },
        "id": "0SDALaWsnRbY",
        "outputId": "61d11b35-f9f9-4523-c456-e44d94e0bcbb"
      },
      "outputs": [
        {
          "data": {
            "text/plain": [
              "MultinomialNB()"
            ]
          },
          "execution_count": 48,
          "metadata": {},
          "output_type": "execute_result"
        }
      ],
      "source": [
        "from sklearn.naive_bayes import MultinomialNB\n",
        "\n",
        "model = MultinomialNB()\n",
        "model.fit(x, y)"
      ]
    },
    {
      "cell_type": "code",
      "execution_count": null,
      "metadata": {
        "colab": {
          "base_uri": "https://localhost:8080/"
        },
        "id": "vq2mKOeOnVQL",
        "outputId": "e86d7549-7836-4f68-942f-5a9931b5bc5c"
      },
      "outputs": [
        {
          "data": {
            "text/plain": [
              "0.7022315946826118"
            ]
          },
          "execution_count": 49,
          "metadata": {},
          "output_type": "execute_result"
        }
      ],
      "source": [
        "model.score(x_test, y_test)"
      ]
    },
    {
      "cell_type": "code",
      "execution_count": null,
      "metadata": {
        "id": "u1lNxfMAxKRA"
      },
      "outputs": [],
      "source": [
        "y_predicted = model.predict(x_test)"
      ]
    },
    {
      "cell_type": "code",
      "execution_count": null,
      "metadata": {
        "colab": {
          "base_uri": "https://localhost:8080/"
        },
        "id": "V3GgPSFTyxqS",
        "outputId": "fb6108c1-6827-43a0-d011-fde0687fd50b"
      },
      "outputs": [
        {
          "data": {
            "text/plain": [
              "0.7022315946826118"
            ]
          },
          "execution_count": 56,
          "metadata": {},
          "output_type": "execute_result"
        }
      ],
      "source": [
        "import sklearn\n",
        "\n",
        "sklearn.metrics.f1_score(y_test, y_predicted, average='micro')"
      ]
    },
    {
      "cell_type": "code",
      "execution_count": null,
      "metadata": {
        "colab": {
          "base_uri": "https://localhost:8080/"
        },
        "id": "0SuvUTyHz1ln",
        "outputId": "e2503418-cb03-47a1-9fd3-e90d6621d5b8"
      },
      "outputs": [
        {
          "data": {
            "text/plain": [
              "0.6895550725683741"
            ]
          },
          "execution_count": 57,
          "metadata": {},
          "output_type": "execute_result"
        }
      ],
      "source": [
        "sklearn.metrics.f1_score(y_test, y_predicted, average='weighted')"
      ]
    },
    {
      "cell_type": "code",
      "execution_count": null,
      "metadata": {
        "colab": {
          "base_uri": "https://localhost:8080/"
        },
        "id": "bquHJ2dYz23V",
        "outputId": "bb41f576-c487-4d63-b709-fd7f9c8b30e3"
      },
      "outputs": [
        {
          "data": {
            "text/plain": [
              "0.5807716646210817"
            ]
          },
          "execution_count": 58,
          "metadata": {},
          "output_type": "execute_result"
        }
      ],
      "source": [
        "sklearn.metrics.f1_score(y_test, y_predicted, average='macro')"
      ]
    },
    {
      "cell_type": "code",
      "execution_count": null,
      "metadata": {
        "colab": {
          "base_uri": "https://localhost:8080/"
        },
        "id": "r07yFuXyz5FW",
        "outputId": "842496c9-e9aa-486f-a15c-43b189856c96"
      },
      "outputs": [
        {
          "name": "stdout",
          "output_type": "stream",
          "text": [
            "              precision    recall  f1-score   support\n",
            "\n",
            "     class 0       0.41      0.22      0.29      3895\n",
            "     class 1       0.69      0.65      0.67     13899\n",
            "     class 2       0.74      0.83      0.78     19668\n",
            "\n",
            "    accuracy                           0.70     37462\n",
            "   macro avg       0.61      0.57      0.58     37462\n",
            "weighted avg       0.69      0.70      0.69     37462\n",
            "\n"
          ]
        }
      ],
      "source": [
        "target_names = ['class 0', 'class 1', 'class 2']\n",
        "print(sklearn.metrics.classification_report(y_test, y_predicted, target_names=target_names))"
      ]
    },
    {
      "cell_type": "code",
      "execution_count": null,
      "metadata": {
        "id": "iwwXdZoA1TKI"
      },
      "outputs": [],
      "source": [
        "from collections import Counter\n",
        "srs_count = dict(Counter(\" \".join(srs_df[\"text\"]).split()).most_common(100))\n",
        "nbh_count = dict(Counter(\" \".join(nbh_df[\"text\"]).split()).most_common(100))\n",
        "hyp_count = dict(Counter(\" \".join(hyp_df[\"text\"]).split()).most_common(100))\n",
        "pos_count = dict(Counter(\" \".join(pos_df[\"text\"]).split()).most_common(100))\n",
        "neg_count = dict(Counter(\" \".join(neg_df[\"text\"]).split()).most_common(100))"
      ]
    },
    {
      "cell_type": "code",
      "execution_count": null,
      "metadata": {
        "id": "Xj9Veh0rW7zm"
      },
      "outputs": [],
      "source": [
        "srs_set = set(srs_count.keys())\n",
        "nbh_set = set(nbh_count.keys())\n",
        "hyp_set = set(hyp_count.keys())\n",
        "pos_set = set(pos_count.keys())\n",
        "neg_set = set(neg_count.keys())"
      ]
    },
    {
      "cell_type": "code",
      "execution_count": null,
      "metadata": {
        "id": "E0LsLbJOXAAT"
      },
      "outputs": [],
      "source": [
        "srs_res = srs_set.difference(nbh_set, hyp_set, pos_set, neg_set)\n",
        "nbh_res = nbh_set.difference(srs_set, hyp_set, pos_set, neg_set)\n",
        "hyp_res = hyp_set.difference(nbh_set, srs_set, pos_set, neg_set)\n",
        "pos_res = pos_set.difference(nbh_set, hyp_set, srs_set, neg_set)\n",
        "neg_res = neg_set.difference(nbh_set, hyp_set, pos_set, srs_set)"
      ]
    },
    {
      "cell_type": "code",
      "execution_count": null,
      "metadata": {
        "id": "YIifJrlfXCgL"
      },
      "outputs": [],
      "source": [
        "srs_li = list(srs_count.keys())\n",
        "nbh_li = list(nbh_count.keys())\n",
        "hyp_li = list(hyp_count.keys())\n",
        "pos_li = list(pos_count.keys())\n",
        "neg_li = list(neg_count.keys())\n",
        " \n",
        "for k in srs_li:\n",
        "  if k not in srs_res:\n",
        "    del srs_count[k]\n",
        " \n",
        "for k in nbh_li:\n",
        "  if k not in nbh_res:\n",
        "    del nbh_count[k]\n",
        " \n",
        "for k in hyp_li:\n",
        "  if k not in hyp_res:\n",
        "    del hyp_count[k]\n",
        " \n",
        "for k in pos_li:\n",
        "  if k not in pos_res:\n",
        "    del pos_count[k]\n",
        " \n",
        "for k in neg_li:\n",
        "  if k not in neg_res:\n",
        "    del neg_count[k]"
      ]
    },
    {
      "cell_type": "code",
      "execution_count": null,
      "metadata": {
        "colab": {
          "base_uri": "https://localhost:8080/"
        },
        "id": "Ih0cBeOCXE6T",
        "outputId": "50242503-fd1f-4624-ed12-522146292252"
      },
      "outputs": [
        {
          "data": {
            "text/plain": [
              "{'?': 1375,\n",
              " 'actually': 1459,\n",
              " 'any': 1079,\n",
              " 'anything': 1065,\n",
              " 'drop': 1728,\n",
              " 'guys': 1296,\n",
              " 'pls': 1897,\n",
              " 'tweet': 1195}"
            ]
          },
          "execution_count": 80,
          "metadata": {},
          "output_type": "execute_result"
        }
      ],
      "source": [
        "srs_count"
      ]
    },
    {
      "cell_type": "code",
      "execution_count": null,
      "metadata": {
        "colab": {
          "base_uri": "https://localhost:8080/"
        },
        "id": "JkIWpI5HgBCQ",
        "outputId": "d451e98b-73d8-4db5-8d53-69b2216738f9"
      },
      "outputs": [
        {
          "data": {
            "text/plain": [
              "{'bc': 128,\n",
              " 'off': 118,\n",
              " 'person': 128,\n",
              " 'ppl': 220,\n",
              " 'stop': 222,\n",
              " 'talk': 123,\n",
              " 'then': 143,\n",
              " 'yall': 204,\n",
              " \"you're\": 126,\n",
              " 'youre': 124}"
            ]
          },
          "execution_count": 81,
          "metadata": {},
          "output_type": "execute_result"
        }
      ],
      "source": [
        "nbh_count"
      ]
    },
    {
      "cell_type": "code",
      "execution_count": null,
      "metadata": {
        "colab": {
          "base_uri": "https://localhost:8080/"
        },
        "id": "CB_sytOcgDXn",
        "outputId": "965f4945-6196-4444-8c88-10b704944605"
      },
      "outputs": [
        {
          "data": {
            "text/plain": [
              "{'#kernel': 6,\n",
              " '/hj': 8,\n",
              " '/lh': 4,\n",
              " '/rh': 5,\n",
              " '/s': 5,\n",
              " '=': 60,\n",
              " 'The': 7,\n",
              " 'again': 4,\n",
              " 'arch/arm64/kvm': 6,\n",
              " 'connotation': 6,\n",
              " 'er': 15,\n",
              " 'ever': 11,\n",
              " 'every': 5,\n",
              " 'has': 7,\n",
              " 'here': 5,\n",
              " 'hyperbole': 5,\n",
              " 'joke': 7,\n",
              " 'myself': 9,\n",
              " 'question': 7,\n",
              " 'says': 4,\n",
              " 'something': 6,\n",
              " 'than': 7,\n",
              " 'warning:': 5}"
            ]
          },
          "execution_count": 82,
          "metadata": {},
          "output_type": "execute_result"
        }
      ],
      "source": [
        "hyp_count"
      ]
    },
    {
      "cell_type": "code",
      "execution_count": null,
      "metadata": {
        "colab": {
          "base_uri": "https://localhost:8080/"
        },
        "id": "9xtt2SQagFJM",
        "outputId": "713bfac5-27dd-4963-b67a-c35d19f0d9cc"
      },
      "outputs": [
        {
          "data": {
            "text/plain": [
              "{'&lt;3': 1400,\n",
              " ':(': 2524,\n",
              " ':((': 1535,\n",
              " 'AND': 1681,\n",
              " 'IM': 1556,\n",
              " 'IS': 1670,\n",
              " 'MY': 1559,\n",
              " 'SO': 2696,\n",
              " 'THE': 2359,\n",
              " 'THIS': 1641,\n",
              " 'YOU': 1517,\n",
              " 'art': 1769,\n",
              " 'cry': 3547,\n",
              " 'crying': 2620,\n",
              " 'good': 1575,\n",
              " 'him': 1810,\n",
              " 'his': 1582,\n",
              " 'look': 1584,\n",
              " 'oh': 1637,\n",
              " 'omg': 1476,\n",
              " 'very': 1601}"
            ]
          },
          "execution_count": 83,
          "metadata": {},
          "output_type": "execute_result"
        }
      ],
      "source": [
        "pos_count"
      ]
    },
    {
      "cell_type": "code",
      "execution_count": null,
      "metadata": {
        "colab": {
          "base_uri": "https://localhost:8080/"
        },
        "id": "jc9ShpUIgG6i",
        "outputId": "9a22c172-cbda-4567-d0c8-0bad26be8448"
      },
      "outputs": [
        {
          "data": {
            "text/plain": [
              "{'//': 361, 'also': 318, 'had': 286}"
            ]
          },
          "execution_count": 84,
          "metadata": {},
          "output_type": "execute_result"
        }
      ],
      "source": [
        "neg_count"
      ]
    }
  ],
  "metadata": {
    "accelerator": "GPU",
    "colab": {
      "collapsed_sections": [],
      "machine_shape": "hm",
      "name": "Baseline_Naive_Bayes.ipynb",
      "provenance": []
    },
    "kernelspec": {
      "display_name": "Python 3",
      "name": "python3"
    },
    "language_info": {
      "name": "python"
    }
  },
  "nbformat": 4,
  "nbformat_minor": 0
}